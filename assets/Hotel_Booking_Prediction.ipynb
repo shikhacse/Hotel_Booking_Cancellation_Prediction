{
 "cells": [
  {
   "cell_type": "code",
   "execution_count": 1,
   "metadata": {},
   "outputs": [
    {
     "name": "stdout",
     "output_type": "stream",
     "text": [
      "Requirement already satisfied: pandas in c:\\users\\rdube\\anaconda3\\envs\\kaggelprojects\\lib\\site-packages (2.0.3)\n",
      "Requirement already satisfied: numpy in c:\\users\\rdube\\anaconda3\\envs\\kaggelprojects\\lib\\site-packages (1.24.3)\n",
      "Requirement already satisfied: matplotlib in c:\\users\\rdube\\anaconda3\\envs\\kaggelprojects\\lib\\site-packages (3.7.5)\n",
      "Requirement already satisfied: seaborn in c:\\users\\rdube\\anaconda3\\envs\\kaggelprojects\\lib\\site-packages (0.13.2)\n",
      "Requirement already satisfied: scikit-learn in c:\\users\\rdube\\anaconda3\\envs\\kaggelprojects\\lib\\site-packages (1.3.2)\n",
      "Requirement already satisfied: missingno in c:\\users\\rdube\\anaconda3\\envs\\kaggelprojects\\lib\\site-packages (0.5.2)\n",
      "Requirement already satisfied: plotly in c:\\users\\rdube\\anaconda3\\envs\\kaggelprojects\\lib\\site-packages (6.0.1)\n",
      "Requirement already satisfied: folium in c:\\users\\rdube\\anaconda3\\envs\\kaggelprojects\\lib\\site-packages (0.18.0)\n",
      "Requirement already satisfied: xgboost in c:\\users\\rdube\\anaconda3\\envs\\kaggelprojects\\lib\\site-packages (2.1.4)\n",
      "Requirement already satisfied: catboost in c:\\users\\rdube\\anaconda3\\envs\\kaggelprojects\\lib\\site-packages (1.2.8)\n",
      "Requirement already satisfied: lightgbm in c:\\users\\rdube\\anaconda3\\envs\\kaggelprojects\\lib\\site-packages (4.6.0)\n",
      "Requirement already satisfied: tensorflow in c:\\users\\rdube\\anaconda3\\envs\\kaggelprojects\\lib\\site-packages (2.13.0)\n",
      "Requirement already satisfied: keras in c:\\users\\rdube\\anaconda3\\envs\\kaggelprojects\\lib\\site-packages (2.13.1)\n",
      "Requirement already satisfied: python-dateutil>=2.8.2 in c:\\users\\rdube\\anaconda3\\envs\\kaggelprojects\\lib\\site-packages (from pandas) (2.9.0.post0)\n",
      "Requirement already satisfied: pytz>=2020.1 in c:\\users\\rdube\\anaconda3\\envs\\kaggelprojects\\lib\\site-packages (from pandas) (2025.2)\n",
      "Requirement already satisfied: tzdata>=2022.1 in c:\\users\\rdube\\anaconda3\\envs\\kaggelprojects\\lib\\site-packages (from pandas) (2025.2)\n",
      "Requirement already satisfied: importlib-resources>=3.2.0 in c:\\users\\rdube\\anaconda3\\envs\\kaggelprojects\\lib\\site-packages (from matplotlib) (6.4.5)\n",
      "Requirement already satisfied: cycler>=0.10 in c:\\users\\rdube\\anaconda3\\envs\\kaggelprojects\\lib\\site-packages (from matplotlib) (0.12.1)\n",
      "Requirement already satisfied: contourpy>=1.0.1 in c:\\users\\rdube\\anaconda3\\envs\\kaggelprojects\\lib\\site-packages (from matplotlib) (1.1.1)\n",
      "Requirement already satisfied: kiwisolver>=1.0.1 in c:\\users\\rdube\\anaconda3\\envs\\kaggelprojects\\lib\\site-packages (from matplotlib) (1.4.7)\n",
      "Requirement already satisfied: pillow>=6.2.0 in c:\\users\\rdube\\anaconda3\\envs\\kaggelprojects\\lib\\site-packages (from matplotlib) (10.4.0)\n",
      "Requirement already satisfied: pyparsing>=2.3.1 in c:\\users\\rdube\\anaconda3\\envs\\kaggelprojects\\lib\\site-packages (from matplotlib) (3.1.4)\n",
      "Requirement already satisfied: packaging>=20.0 in c:\\users\\rdube\\anaconda3\\envs\\kaggelprojects\\lib\\site-packages (from matplotlib) (24.2)\n",
      "Requirement already satisfied: fonttools>=4.22.0 in c:\\users\\rdube\\anaconda3\\envs\\kaggelprojects\\lib\\site-packages (from matplotlib) (4.57.0)\n",
      "Requirement already satisfied: joblib>=1.1.1 in c:\\users\\rdube\\anaconda3\\envs\\kaggelprojects\\lib\\site-packages (from scikit-learn) (1.4.2)\n",
      "Requirement already satisfied: scipy>=1.5.0 in c:\\users\\rdube\\anaconda3\\envs\\kaggelprojects\\lib\\site-packages (from scikit-learn) (1.10.1)\n",
      "Requirement already satisfied: threadpoolctl>=2.0.0 in c:\\users\\rdube\\anaconda3\\envs\\kaggelprojects\\lib\\site-packages (from scikit-learn) (3.5.0)\n",
      "Requirement already satisfied: narwhals>=1.15.1 in c:\\users\\rdube\\anaconda3\\envs\\kaggelprojects\\lib\\site-packages (from plotly) (1.35.0)\n",
      "Requirement already satisfied: requests in c:\\users\\rdube\\anaconda3\\envs\\kaggelprojects\\lib\\site-packages (from folium) (2.32.3)\n",
      "Requirement already satisfied: jinja2>=2.9 in c:\\users\\rdube\\anaconda3\\envs\\kaggelprojects\\lib\\site-packages (from folium) (3.1.6)\n",
      "Requirement already satisfied: xyzservices in c:\\users\\rdube\\anaconda3\\envs\\kaggelprojects\\lib\\site-packages (from folium) (2025.1.0)\n",
      "Requirement already satisfied: branca>=0.6.0 in c:\\users\\rdube\\anaconda3\\envs\\kaggelprojects\\lib\\site-packages (from folium) (0.8.1)\n",
      "Requirement already satisfied: graphviz in c:\\users\\rdube\\anaconda3\\envs\\kaggelprojects\\lib\\site-packages (from catboost) (0.20.3)\n",
      "Requirement already satisfied: six in c:\\users\\rdube\\anaconda3\\envs\\kaggelprojects\\lib\\site-packages (from catboost) (1.17.0)\n",
      "Requirement already satisfied: tensorflow-intel==2.13.0 in c:\\users\\rdube\\anaconda3\\envs\\kaggelprojects\\lib\\site-packages (from tensorflow) (2.13.0)\n",
      "Requirement already satisfied: protobuf!=4.21.0,!=4.21.1,!=4.21.2,!=4.21.3,!=4.21.4,!=4.21.5,<5.0.0dev,>=3.20.3 in c:\\users\\rdube\\anaconda3\\envs\\kaggelprojects\\lib\\site-packages (from tensorflow-intel==2.13.0->tensorflow) (4.25.6)\n",
      "Requirement already satisfied: typing-extensions<4.6.0,>=3.6.6 in c:\\users\\rdube\\anaconda3\\envs\\kaggelprojects\\lib\\site-packages (from tensorflow-intel==2.13.0->tensorflow) (4.5.0)\n",
      "Requirement already satisfied: tensorflow-estimator<2.14,>=2.13.0 in c:\\users\\rdube\\anaconda3\\envs\\kaggelprojects\\lib\\site-packages (from tensorflow-intel==2.13.0->tensorflow) (2.13.0)\n",
      "Requirement already satisfied: libclang>=13.0.0 in c:\\users\\rdube\\anaconda3\\envs\\kaggelprojects\\lib\\site-packages (from tensorflow-intel==2.13.0->tensorflow) (18.1.1)\n",
      "Requirement already satisfied: termcolor>=1.1.0 in c:\\users\\rdube\\anaconda3\\envs\\kaggelprojects\\lib\\site-packages (from tensorflow-intel==2.13.0->tensorflow) (2.4.0)\n",
      "Requirement already satisfied: flatbuffers>=23.1.21 in c:\\users\\rdube\\anaconda3\\envs\\kaggelprojects\\lib\\site-packages (from tensorflow-intel==2.13.0->tensorflow) (25.2.10)\n",
      "Requirement already satisfied: grpcio<2.0,>=1.24.3 in c:\\users\\rdube\\anaconda3\\envs\\kaggelprojects\\lib\\site-packages (from tensorflow-intel==2.13.0->tensorflow) (1.70.0)\n",
      "Requirement already satisfied: h5py>=2.9.0 in c:\\users\\rdube\\anaconda3\\envs\\kaggelprojects\\lib\\site-packages (from tensorflow-intel==2.13.0->tensorflow) (3.11.0)\n",
      "Requirement already satisfied: absl-py>=1.0.0 in c:\\users\\rdube\\anaconda3\\envs\\kaggelprojects\\lib\\site-packages (from tensorflow-intel==2.13.0->tensorflow) (2.2.2)\n",
      "Requirement already satisfied: google-pasta>=0.1.1 in c:\\users\\rdube\\anaconda3\\envs\\kaggelprojects\\lib\\site-packages (from tensorflow-intel==2.13.0->tensorflow) (0.2.0)\n",
      "Requirement already satisfied: gast<=0.4.0,>=0.2.1 in c:\\users\\rdube\\anaconda3\\envs\\kaggelprojects\\lib\\site-packages (from tensorflow-intel==2.13.0->tensorflow) (0.4.0)\n",
      "Requirement already satisfied: setuptools in c:\\users\\rdube\\anaconda3\\envs\\kaggelprojects\\lib\\site-packages (from tensorflow-intel==2.13.0->tensorflow) (70.3.0)\n",
      "Requirement already satisfied: opt-einsum>=2.3.2 in c:\\users\\rdube\\anaconda3\\envs\\kaggelprojects\\lib\\site-packages (from tensorflow-intel==2.13.0->tensorflow) (3.4.0)\n",
      "Requirement already satisfied: tensorboard<2.14,>=2.13 in c:\\users\\rdube\\anaconda3\\envs\\kaggelprojects\\lib\\site-packages (from tensorflow-intel==2.13.0->tensorflow) (2.13.0)\n",
      "Requirement already satisfied: astunparse>=1.6.0 in c:\\users\\rdube\\anaconda3\\envs\\kaggelprojects\\lib\\site-packages (from tensorflow-intel==2.13.0->tensorflow) (1.6.3)\n",
      "Requirement already satisfied: wrapt>=1.11.0 in c:\\users\\rdube\\anaconda3\\envs\\kaggelprojects\\lib\\site-packages (from tensorflow-intel==2.13.0->tensorflow) (1.17.2)\n",
      "Requirement already satisfied: tensorflow-io-gcs-filesystem>=0.23.1 in c:\\users\\rdube\\anaconda3\\envs\\kaggelprojects\\lib\\site-packages (from tensorflow-intel==2.13.0->tensorflow) (0.31.0)\n",
      "Requirement already satisfied: zipp>=3.1.0 in c:\\users\\rdube\\anaconda3\\envs\\kaggelprojects\\lib\\site-packages (from importlib-resources>=3.2.0->matplotlib) (3.20.2)\n",
      "Requirement already satisfied: MarkupSafe>=2.0 in c:\\users\\rdube\\anaconda3\\envs\\kaggelprojects\\lib\\site-packages (from jinja2>=2.9->folium) (2.1.5)\n",
      "Requirement already satisfied: certifi>=2017.4.17 in c:\\users\\rdube\\anaconda3\\envs\\kaggelprojects\\lib\\site-packages (from requests->folium) (2025.1.31)\n",
      "Requirement already satisfied: charset-normalizer<4,>=2 in c:\\users\\rdube\\anaconda3\\envs\\kaggelprojects\\lib\\site-packages (from requests->folium) (3.4.1)\n",
      "Requirement already satisfied: idna<4,>=2.5 in c:\\users\\rdube\\anaconda3\\envs\\kaggelprojects\\lib\\site-packages (from requests->folium) (3.10)\n",
      "Requirement already satisfied: urllib3<3,>=1.21.1 in c:\\users\\rdube\\anaconda3\\envs\\kaggelprojects\\lib\\site-packages (from requests->folium) (2.2.3)\n",
      "Requirement already satisfied: wheel<1.0,>=0.23.0 in c:\\users\\rdube\\anaconda3\\envs\\kaggelprojects\\lib\\site-packages (from astunparse>=1.6.0->tensorflow-intel==2.13.0->tensorflow) (0.45.1)\n",
      "Requirement already satisfied: google-auth<3,>=1.6.3 in c:\\users\\rdube\\anaconda3\\envs\\kaggelprojects\\lib\\site-packages (from tensorboard<2.14,>=2.13->tensorflow-intel==2.13.0->tensorflow) (2.39.0)\n",
      "Requirement already satisfied: tensorboard-data-server<0.8.0,>=0.7.0 in c:\\users\\rdube\\anaconda3\\envs\\kaggelprojects\\lib\\site-packages (from tensorboard<2.14,>=2.13->tensorflow-intel==2.13.0->tensorflow) (0.7.2)\n",
      "Requirement already satisfied: markdown>=2.6.8 in c:\\users\\rdube\\anaconda3\\envs\\kaggelprojects\\lib\\site-packages (from tensorboard<2.14,>=2.13->tensorflow-intel==2.13.0->tensorflow) (3.7)\n",
      "Requirement already satisfied: google-auth-oauthlib<1.1,>=0.5 in c:\\users\\rdube\\anaconda3\\envs\\kaggelprojects\\lib\\site-packages (from tensorboard<2.14,>=2.13->tensorflow-intel==2.13.0->tensorflow) (1.0.0)\n",
      "Requirement already satisfied: werkzeug>=1.0.1 in c:\\users\\rdube\\anaconda3\\envs\\kaggelprojects\\lib\\site-packages (from tensorboard<2.14,>=2.13->tensorflow-intel==2.13.0->tensorflow) (3.0.6)\n",
      "Requirement already satisfied: pyasn1-modules>=0.2.1 in c:\\users\\rdube\\anaconda3\\envs\\kaggelprojects\\lib\\site-packages (from google-auth<3,>=1.6.3->tensorboard<2.14,>=2.13->tensorflow-intel==2.13.0->tensorflow) (0.4.2)\n",
      "Requirement already satisfied: cachetools<6.0,>=2.0.0 in c:\\users\\rdube\\anaconda3\\envs\\kaggelprojects\\lib\\site-packages (from google-auth<3,>=1.6.3->tensorboard<2.14,>=2.13->tensorflow-intel==2.13.0->tensorflow) (5.5.2)\n",
      "Requirement already satisfied: rsa<5,>=3.1.4 in c:\\users\\rdube\\anaconda3\\envs\\kaggelprojects\\lib\\site-packages (from google-auth<3,>=1.6.3->tensorboard<2.14,>=2.13->tensorflow-intel==2.13.0->tensorflow) (4.9.1)\n",
      "Requirement already satisfied: requests-oauthlib>=0.7.0 in c:\\users\\rdube\\anaconda3\\envs\\kaggelprojects\\lib\\site-packages (from google-auth-oauthlib<1.1,>=0.5->tensorboard<2.14,>=2.13->tensorflow-intel==2.13.0->tensorflow) (2.0.0)\n",
      "Requirement already satisfied: importlib-metadata>=4.4 in c:\\users\\rdube\\anaconda3\\envs\\kaggelprojects\\lib\\site-packages (from markdown>=2.6.8->tensorboard<2.14,>=2.13->tensorflow-intel==2.13.0->tensorflow) (8.5.0)\n",
      "Requirement already satisfied: pyasn1<0.7.0,>=0.6.1 in c:\\users\\rdube\\anaconda3\\envs\\kaggelprojects\\lib\\site-packages (from pyasn1-modules>=0.2.1->google-auth<3,>=1.6.3->tensorboard<2.14,>=2.13->tensorflow-intel==2.13.0->tensorflow) (0.6.1)\n",
      "Requirement already satisfied: oauthlib>=3.0.0 in c:\\users\\rdube\\anaconda3\\envs\\kaggelprojects\\lib\\site-packages (from requests-oauthlib>=0.7.0->google-auth-oauthlib<1.1,>=0.5->tensorboard<2.14,>=2.13->tensorflow-intel==2.13.0->tensorflow) (3.2.2)\n"
     ]
    }
   ],
   "source": [
    "!pip install pandas numpy matplotlib seaborn scikit-learn missingno plotly folium  xgboost catboost lightgbm tensorflow keras\n"
   ]
  },
  {
   "cell_type": "code",
   "execution_count": 2,
   "metadata": {},
   "outputs": [
    {
     "name": "stdout",
     "output_type": "stream",
     "text": [
      "Requirement already satisfied: sort-dataframeby-monthorweek in c:\\users\\rdube\\anaconda3\\envs\\kaggelprojects\\lib\\site-packages (0.4)\n",
      "Requirement already satisfied: sorted-months-weekdays in c:\\users\\rdube\\anaconda3\\envs\\kaggelprojects\\lib\\site-packages (0.2)\n",
      "Note: you may need to restart the kernel to use updated packages.\n"
     ]
    }
   ],
   "source": [
    "pip install --user sort-dataframeby-monthorweek sorted-months-weekdays\n"
   ]
  },
  {
   "cell_type": "code",
   "execution_count": 3,
   "metadata": {},
   "outputs": [],
   "source": [
    "# 1. 📚 Import Libraries\n",
    "import pandas as pd\n",
    "import numpy as np\n",
    "import matplotlib.pyplot as plt\n",
    "import seaborn as sns\n",
    "import missingno as msno\n",
    "import plotly.express as px\n",
    "import warnings\n",
    "warnings.filterwarnings('ignore')"
   ]
  },
  {
   "cell_type": "code",
   "execution_count": 4,
   "metadata": {},
   "outputs": [],
   "source": [
    "from sklearn.model_selection import train_test_split\n",
    "from sklearn.preprocessing import StandardScaler\n",
    "from sklearn.metrics import accuracy_score, confusion_matrix, classification_report\n",
    "from sklearn.linear_model import LogisticRegression\n",
    "from sklearn.neighbors import KNeighborsClassifier\n",
    "from sklearn.tree import DecisionTreeClassifier\n",
    "from sklearn.ensemble import RandomForestClassifier, AdaBoostClassifier, GradientBoostingClassifier, ExtraTreesClassifier, VotingClassifier\n",
    "from xgboost import XGBClassifier\n",
    "from catboost import CatBoostClassifier\n",
    "from lightgbm import LGBMClassifier"
   ]
  },
  {
   "cell_type": "code",
   "execution_count": 5,
   "metadata": {},
   "outputs": [],
   "source": [
    "import tensorflow as tf\n",
    "from tensorflow.keras.models import Sequential\n",
    "from tensorflow.keras.layers import Dense"
   ]
  },
  {
   "cell_type": "code",
   "execution_count": 6,
   "metadata": {},
   "outputs": [],
   "source": [
    "# Plotting style\n",
    "plt.style.use('fivethirtyeight')"
   ]
  },
  {
   "cell_type": "code",
   "execution_count": 7,
   "metadata": {},
   "outputs": [
    {
     "data": {
      "text/html": [
       "<div>\n",
       "<style scoped>\n",
       "    .dataframe tbody tr th:only-of-type {\n",
       "        vertical-align: middle;\n",
       "    }\n",
       "\n",
       "    .dataframe tbody tr th {\n",
       "        vertical-align: top;\n",
       "    }\n",
       "\n",
       "    .dataframe thead th {\n",
       "        text-align: right;\n",
       "    }\n",
       "</style>\n",
       "<table border=\"1\" class=\"dataframe\">\n",
       "  <thead>\n",
       "    <tr style=\"text-align: right;\">\n",
       "      <th></th>\n",
       "      <th>hotel</th>\n",
       "      <th>is_canceled</th>\n",
       "      <th>lead_time</th>\n",
       "      <th>arrival_date_year</th>\n",
       "      <th>arrival_date_month</th>\n",
       "      <th>arrival_date_week_number</th>\n",
       "      <th>arrival_date_day_of_month</th>\n",
       "      <th>stays_in_weekend_nights</th>\n",
       "      <th>stays_in_week_nights</th>\n",
       "      <th>adults</th>\n",
       "      <th>...</th>\n",
       "      <th>deposit_type</th>\n",
       "      <th>agent</th>\n",
       "      <th>company</th>\n",
       "      <th>days_in_waiting_list</th>\n",
       "      <th>customer_type</th>\n",
       "      <th>adr</th>\n",
       "      <th>required_car_parking_spaces</th>\n",
       "      <th>total_of_special_requests</th>\n",
       "      <th>reservation_status</th>\n",
       "      <th>reservation_status_date</th>\n",
       "    </tr>\n",
       "  </thead>\n",
       "  <tbody>\n",
       "    <tr>\n",
       "      <th>0</th>\n",
       "      <td>Resort Hotel</td>\n",
       "      <td>0</td>\n",
       "      <td>342</td>\n",
       "      <td>2015</td>\n",
       "      <td>July</td>\n",
       "      <td>27</td>\n",
       "      <td>1</td>\n",
       "      <td>0</td>\n",
       "      <td>0</td>\n",
       "      <td>2</td>\n",
       "      <td>...</td>\n",
       "      <td>No Deposit</td>\n",
       "      <td>NaN</td>\n",
       "      <td>NaN</td>\n",
       "      <td>0</td>\n",
       "      <td>Transient</td>\n",
       "      <td>0.0</td>\n",
       "      <td>0</td>\n",
       "      <td>0</td>\n",
       "      <td>Check-Out</td>\n",
       "      <td>2015-07-01</td>\n",
       "    </tr>\n",
       "    <tr>\n",
       "      <th>1</th>\n",
       "      <td>Resort Hotel</td>\n",
       "      <td>0</td>\n",
       "      <td>737</td>\n",
       "      <td>2015</td>\n",
       "      <td>July</td>\n",
       "      <td>27</td>\n",
       "      <td>1</td>\n",
       "      <td>0</td>\n",
       "      <td>0</td>\n",
       "      <td>2</td>\n",
       "      <td>...</td>\n",
       "      <td>No Deposit</td>\n",
       "      <td>NaN</td>\n",
       "      <td>NaN</td>\n",
       "      <td>0</td>\n",
       "      <td>Transient</td>\n",
       "      <td>0.0</td>\n",
       "      <td>0</td>\n",
       "      <td>0</td>\n",
       "      <td>Check-Out</td>\n",
       "      <td>2015-07-01</td>\n",
       "    </tr>\n",
       "    <tr>\n",
       "      <th>2</th>\n",
       "      <td>Resort Hotel</td>\n",
       "      <td>0</td>\n",
       "      <td>7</td>\n",
       "      <td>2015</td>\n",
       "      <td>July</td>\n",
       "      <td>27</td>\n",
       "      <td>1</td>\n",
       "      <td>0</td>\n",
       "      <td>1</td>\n",
       "      <td>1</td>\n",
       "      <td>...</td>\n",
       "      <td>No Deposit</td>\n",
       "      <td>NaN</td>\n",
       "      <td>NaN</td>\n",
       "      <td>0</td>\n",
       "      <td>Transient</td>\n",
       "      <td>75.0</td>\n",
       "      <td>0</td>\n",
       "      <td>0</td>\n",
       "      <td>Check-Out</td>\n",
       "      <td>2015-07-02</td>\n",
       "    </tr>\n",
       "    <tr>\n",
       "      <th>3</th>\n",
       "      <td>Resort Hotel</td>\n",
       "      <td>0</td>\n",
       "      <td>13</td>\n",
       "      <td>2015</td>\n",
       "      <td>July</td>\n",
       "      <td>27</td>\n",
       "      <td>1</td>\n",
       "      <td>0</td>\n",
       "      <td>1</td>\n",
       "      <td>1</td>\n",
       "      <td>...</td>\n",
       "      <td>No Deposit</td>\n",
       "      <td>304.0</td>\n",
       "      <td>NaN</td>\n",
       "      <td>0</td>\n",
       "      <td>Transient</td>\n",
       "      <td>75.0</td>\n",
       "      <td>0</td>\n",
       "      <td>0</td>\n",
       "      <td>Check-Out</td>\n",
       "      <td>2015-07-02</td>\n",
       "    </tr>\n",
       "    <tr>\n",
       "      <th>4</th>\n",
       "      <td>Resort Hotel</td>\n",
       "      <td>0</td>\n",
       "      <td>14</td>\n",
       "      <td>2015</td>\n",
       "      <td>July</td>\n",
       "      <td>27</td>\n",
       "      <td>1</td>\n",
       "      <td>0</td>\n",
       "      <td>2</td>\n",
       "      <td>2</td>\n",
       "      <td>...</td>\n",
       "      <td>No Deposit</td>\n",
       "      <td>240.0</td>\n",
       "      <td>NaN</td>\n",
       "      <td>0</td>\n",
       "      <td>Transient</td>\n",
       "      <td>98.0</td>\n",
       "      <td>0</td>\n",
       "      <td>1</td>\n",
       "      <td>Check-Out</td>\n",
       "      <td>2015-07-03</td>\n",
       "    </tr>\n",
       "  </tbody>\n",
       "</table>\n",
       "<p>5 rows × 32 columns</p>\n",
       "</div>"
      ],
      "text/plain": [
       "          hotel  is_canceled  lead_time  arrival_date_year arrival_date_month  \\\n",
       "0  Resort Hotel            0        342               2015               July   \n",
       "1  Resort Hotel            0        737               2015               July   \n",
       "2  Resort Hotel            0          7               2015               July   \n",
       "3  Resort Hotel            0         13               2015               July   \n",
       "4  Resort Hotel            0         14               2015               July   \n",
       "\n",
       "   arrival_date_week_number  arrival_date_day_of_month  \\\n",
       "0                        27                          1   \n",
       "1                        27                          1   \n",
       "2                        27                          1   \n",
       "3                        27                          1   \n",
       "4                        27                          1   \n",
       "\n",
       "   stays_in_weekend_nights  stays_in_week_nights  adults  ...  deposit_type  \\\n",
       "0                        0                     0       2  ...    No Deposit   \n",
       "1                        0                     0       2  ...    No Deposit   \n",
       "2                        0                     1       1  ...    No Deposit   \n",
       "3                        0                     1       1  ...    No Deposit   \n",
       "4                        0                     2       2  ...    No Deposit   \n",
       "\n",
       "   agent company days_in_waiting_list customer_type   adr  \\\n",
       "0    NaN     NaN                    0     Transient   0.0   \n",
       "1    NaN     NaN                    0     Transient   0.0   \n",
       "2    NaN     NaN                    0     Transient  75.0   \n",
       "3  304.0     NaN                    0     Transient  75.0   \n",
       "4  240.0     NaN                    0     Transient  98.0   \n",
       "\n",
       "   required_car_parking_spaces  total_of_special_requests  reservation_status  \\\n",
       "0                            0                          0           Check-Out   \n",
       "1                            0                          0           Check-Out   \n",
       "2                            0                          0           Check-Out   \n",
       "3                            0                          0           Check-Out   \n",
       "4                            0                          1           Check-Out   \n",
       "\n",
       "  reservation_status_date  \n",
       "0              2015-07-01  \n",
       "1              2015-07-01  \n",
       "2              2015-07-02  \n",
       "3              2015-07-02  \n",
       "4              2015-07-03  \n",
       "\n",
       "[5 rows x 32 columns]"
      ]
     },
     "execution_count": 7,
     "metadata": {},
     "output_type": "execute_result"
    }
   ],
   "source": [
    "# 2. 📂 Load the Dataset\n",
    "df = pd.read_csv('hotel_bookings.csv')\n",
    "df.head()"
   ]
  },
  {
   "cell_type": "code",
   "execution_count": 8,
   "metadata": {},
   "outputs": [],
   "source": [
    "# Handle missing values\n",
    "df.fillna(0, inplace=True)\n"
   ]
  },
  {
   "cell_type": "code",
   "execution_count": 9,
   "metadata": {},
   "outputs": [],
   "source": [
    "# Remove rows where adults, children, and babies are all zero\n",
    "filter_invalid_guests = (df['adults'] == 0) & (df['children'] == 0) & (df['babies'] == 0)\n",
    "df = df[~filter_invalid_guests]"
   ]
  },
  {
   "cell_type": "code",
   "execution_count": 10,
   "metadata": {},
   "outputs": [],
   "source": [
    "# Create a 'total_nights' feature\n",
    "df['total_nights'] = df['stays_in_weekend_nights'] + df['stays_in_week_nights']"
   ]
  },
  {
   "cell_type": "code",
   "execution_count": 11,
   "metadata": {},
   "outputs": [],
   "source": [
    "# Drop less important columns\n",
    "useless_cols = ['days_in_waiting_list', 'arrival_date_year', 'assigned_room_type', 'booking_changes', 'reservation_status', 'country', 'days_in_waiting_list']\n",
    "df.drop(useless_cols, axis=1, inplace=True)"
   ]
  },
  {
   "cell_type": "code",
   "execution_count": 12,
   "metadata": {},
   "outputs": [],
   "source": [
    "# Split categorical and numerical columns\n",
    "cat_cols = [col for col in df.columns if df[col].dtype == 'O']\n",
    "num_cols = [col for col in df.columns if df[col].dtype != 'O']"
   ]
  },
  {
   "cell_type": "code",
   "execution_count": 13,
   "metadata": {},
   "outputs": [],
   "source": [
    "# Handle date columns\n",
    "cat_df = df[cat_cols].copy()\n",
    "cat_df['reservation_status_date'] = pd.to_datetime(cat_df['reservation_status_date'])\n",
    "cat_df['year'] = cat_df['reservation_status_date'].dt.year\n",
    "cat_df['month'] = cat_df['reservation_status_date'].dt.month\n",
    "cat_df['day'] = cat_df['reservation_status_date'].dt.day\n",
    "cat_df.drop(['reservation_status_date', 'arrival_date_month'], axis=1, inplace=True)\n"
   ]
  },
  {
   "cell_type": "code",
   "execution_count": 14,
   "metadata": {},
   "outputs": [],
   "source": [
    "# Encode categorical variables\n",
    "encoders = {\n",
    "    'hotel': {'Resort Hotel': 0, 'City Hotel': 1},\n",
    "    'meal': {'BB': 0, 'FB': 1, 'HB': 2, 'SC': 3, 'Undefined': 4},\n",
    "    'market_segment': {'Direct': 0, 'Corporate': 1, 'Online TA': 2, 'Offline TA/TO': 3, 'Complementary': 4, 'Groups': 5, 'Undefined': 6, 'Aviation': 7},\n",
    "    'distribution_channel': {'Direct': 0, 'Corporate': 1, 'TA/TO': 2, 'Undefined': 3, 'GDS': 4},\n",
    "    'reserved_room_type': {'C': 0, 'A': 1, 'D': 2, 'E': 3, 'G': 4, 'F': 5, 'H': 6, 'L': 7, 'B': 8},\n",
    "    'deposit_type': {'No Deposit': 0, 'Refundable': 1, 'Non Refund': 2},\n",
    "    'customer_type': {'Transient': 0, 'Contract': 1, 'Transient-Party': 2, 'Group': 3}\n",
    "}\n"
   ]
  },
  {
   "cell_type": "code",
   "execution_count": 15,
   "metadata": {},
   "outputs": [],
   "source": [
    "for col, mapping in encoders.items():\n",
    "    cat_df[col] = cat_df[col].map(mapping)"
   ]
  },
  {
   "cell_type": "code",
   "execution_count": 16,
   "metadata": {},
   "outputs": [],
   "source": [
    "# Prepare numerical features\n",
    "num_df = df[num_cols].copy()\n",
    "num_df.drop('is_canceled', axis=1, inplace=True)"
   ]
  },
  {
   "cell_type": "code",
   "execution_count": 17,
   "metadata": {},
   "outputs": [],
   "source": [
    "# Apply log transformation to skewed features\n",
    "for col in ['lead_time', 'arrival_date_week_number', 'arrival_date_day_of_month', 'agent', 'company', 'adr']:\n",
    "    num_df[col] = np.log1p(num_df[col])"
   ]
  },
  {
   "cell_type": "code",
   "execution_count": 18,
   "metadata": {},
   "outputs": [],
   "source": [
    "# Final feature set\n",
    "X = pd.concat([cat_df, num_df], axis=1)\n",
    "y = df['is_canceled']"
   ]
  },
  {
   "cell_type": "code",
   "execution_count": 19,
   "metadata": {},
   "outputs": [],
   "source": [
    "# 4. 🏗️ Train-Test Split\n",
    "X_train, X_test, y_train, y_test = train_test_split(X, y, test_size=0.30, random_state=42)"
   ]
  },
  {
   "cell_type": "code",
   "execution_count": 22,
   "metadata": {},
   "outputs": [],
   "source": [
    "X_train = X_train.fillna(0)\n",
    "X_test = X_test.fillna(0)"
   ]
  },
  {
   "cell_type": "code",
   "execution_count": 23,
   "metadata": {},
   "outputs": [],
   "source": [
    "# Helper function to train and evaluate models\n",
    "def evaluate_model(model, name):\n",
    "    model.fit(X_train, y_train)\n",
    "    y_pred = model.predict(X_test)\n",
    "    acc = accuracy_score(y_test, y_pred)\n",
    "    print(f\"\\nModel: {name}\")\n",
    "    print(\"Accuracy:\", acc)\n",
    "    print(\"Confusion Matrix:\\n\", confusion_matrix(y_test, y_pred))\n",
    "    print(\"Classification Report:\\n\", classification_report(y_test, y_pred))\n",
    "    return acc"
   ]
  },
  {
   "cell_type": "code",
   "execution_count": 24,
   "metadata": {},
   "outputs": [
    {
     "name": "stdout",
     "output_type": "stream",
     "text": [
      "\n",
      "Model: Logistic Regression\n",
      "Accuracy: 0.7740122472946901\n",
      "Confusion Matrix:\n",
      " [[20288  2173]\n",
      " [ 5909  7393]]\n",
      "Classification Report:\n",
      "               precision    recall  f1-score   support\n",
      "\n",
      "           0       0.77      0.90      0.83     22461\n",
      "           1       0.77      0.56      0.65     13302\n",
      "\n",
      "    accuracy                           0.77     35763\n",
      "   macro avg       0.77      0.73      0.74     35763\n",
      "weighted avg       0.77      0.77      0.76     35763\n",
      "\n",
      "\n",
      "Model: K-Nearest Neighbors\n",
      "Accuracy: 0.885440259486061\n",
      "Confusion Matrix:\n",
      " [[21617   844]\n",
      " [ 3253 10049]]\n",
      "Classification Report:\n",
      "               precision    recall  f1-score   support\n",
      "\n",
      "           0       0.87      0.96      0.91     22461\n",
      "           1       0.92      0.76      0.83     13302\n",
      "\n",
      "    accuracy                           0.89     35763\n",
      "   macro avg       0.90      0.86      0.87     35763\n",
      "weighted avg       0.89      0.89      0.88     35763\n",
      "\n",
      "\n",
      "Model: Decision Tree\n",
      "Accuracy: 0.9511785923999665\n",
      "Confusion Matrix:\n",
      " [[21553   908]\n",
      " [  838 12464]]\n",
      "Classification Report:\n",
      "               precision    recall  f1-score   support\n",
      "\n",
      "           0       0.96      0.96      0.96     22461\n",
      "           1       0.93      0.94      0.93     13302\n",
      "\n",
      "    accuracy                           0.95     35763\n",
      "   macro avg       0.95      0.95      0.95     35763\n",
      "weighted avg       0.95      0.95      0.95     35763\n",
      "\n",
      "\n",
      "Model: Random Forest\n",
      "Accuracy: 0.9541705114224198\n",
      "Confusion Matrix:\n",
      " [[22299   162]\n",
      " [ 1477 11825]]\n",
      "Classification Report:\n",
      "               precision    recall  f1-score   support\n",
      "\n",
      "           0       0.94      0.99      0.96     22461\n",
      "           1       0.99      0.89      0.94     13302\n",
      "\n",
      "    accuracy                           0.95     35763\n",
      "   macro avg       0.96      0.94      0.95     35763\n",
      "weighted avg       0.96      0.95      0.95     35763\n",
      "\n",
      "\n",
      "Model: AdaBoost\n",
      "Accuracy: 0.9507871263596455\n",
      "Confusion Matrix:\n",
      " [[21532   929]\n",
      " [  831 12471]]\n",
      "Classification Report:\n",
      "               precision    recall  f1-score   support\n",
      "\n",
      "           0       0.96      0.96      0.96     22461\n",
      "           1       0.93      0.94      0.93     13302\n",
      "\n",
      "    accuracy                           0.95     35763\n",
      "   macro avg       0.95      0.95      0.95     35763\n",
      "weighted avg       0.95      0.95      0.95     35763\n",
      "\n",
      "\n",
      "Model: Gradient Boosting\n",
      "Accuracy: 0.9179599026927271\n",
      "Confusion Matrix:\n",
      " [[22348   113]\n",
      " [ 2821 10481]]\n",
      "Classification Report:\n",
      "               precision    recall  f1-score   support\n",
      "\n",
      "           0       0.89      0.99      0.94     22461\n",
      "           1       0.99      0.79      0.88     13302\n",
      "\n",
      "    accuracy                           0.92     35763\n",
      "   macro avg       0.94      0.89      0.91     35763\n",
      "weighted avg       0.93      0.92      0.92     35763\n",
      "\n",
      "\n",
      "Model: XGBoost\n",
      "Accuracy: 0.9835584263065179\n",
      "Confusion Matrix:\n",
      " [[22447    14]\n",
      " [  574 12728]]\n",
      "Classification Report:\n",
      "               precision    recall  f1-score   support\n",
      "\n",
      "           0       0.98      1.00      0.99     22461\n",
      "           1       1.00      0.96      0.98     13302\n",
      "\n",
      "    accuracy                           0.98     35763\n",
      "   macro avg       0.99      0.98      0.98     35763\n",
      "weighted avg       0.98      0.98      0.98     35763\n",
      "\n",
      "\n",
      "Model: CatBoost\n",
      "Accuracy: 0.9961133014568129\n",
      "Confusion Matrix:\n",
      " [[22447    14]\n",
      " [  125 13177]]\n",
      "Classification Report:\n",
      "               precision    recall  f1-score   support\n",
      "\n",
      "           0       0.99      1.00      1.00     22461\n",
      "           1       1.00      0.99      0.99     13302\n",
      "\n",
      "    accuracy                           1.00     35763\n",
      "   macro avg       1.00      0.99      1.00     35763\n",
      "weighted avg       1.00      1.00      1.00     35763\n",
      "\n",
      "\n",
      "Model: Extra Trees\n",
      "Accuracy: 0.9512065542599893\n",
      "Confusion Matrix:\n",
      " [[22219   242]\n",
      " [ 1503 11799]]\n",
      "Classification Report:\n",
      "               precision    recall  f1-score   support\n",
      "\n",
      "           0       0.94      0.99      0.96     22461\n",
      "           1       0.98      0.89      0.93     13302\n",
      "\n",
      "    accuracy                           0.95     35763\n",
      "   macro avg       0.96      0.94      0.95     35763\n",
      "weighted avg       0.95      0.95      0.95     35763\n",
      "\n",
      "[LightGBM] [Info] Number of positive: 30897, number of negative: 52550\n",
      "[LightGBM] [Info] Auto-choosing row-wise multi-threading, the overhead of testing was 0.003918 seconds.\n",
      "You can set `force_row_wise=true` to remove the overhead.\n",
      "And if memory is not enough, you can set `force_col_wise=true`.\n",
      "[LightGBM] [Info] Total Bins 1247\n",
      "[LightGBM] [Info] Number of data points in the train set: 83447, number of used features: 27\n",
      "[LightGBM] [Info] [binary:BoostFromScore]: pavg=0.370259 -> initscore=-0.531106\n",
      "[LightGBM] [Info] Start training from score -0.531106\n",
      "\n",
      "Model: LGBM\n",
      "Accuracy: 0.961133014568129\n",
      "Confusion Matrix:\n",
      " [[21760   701]\n",
      " [  689 12613]]\n",
      "Classification Report:\n",
      "               precision    recall  f1-score   support\n",
      "\n",
      "           0       0.97      0.97      0.97     22461\n",
      "           1       0.95      0.95      0.95     13302\n",
      "\n",
      "    accuracy                           0.96     35763\n",
      "   macro avg       0.96      0.96      0.96     35763\n",
      "weighted avg       0.96      0.96      0.96     35763\n",
      "\n"
     ]
    }
   ],
   "source": [
    "# Train models\n",
    "results = {}\n",
    "results['Logistic Regression'] = evaluate_model(LogisticRegression(), 'Logistic Regression')\n",
    "results['KNN'] = evaluate_model(KNeighborsClassifier(), 'K-Nearest Neighbors')\n",
    "results['Decision Tree'] = evaluate_model(DecisionTreeClassifier(), 'Decision Tree')\n",
    "results['Random Forest'] = evaluate_model(RandomForestClassifier(), 'Random Forest')\n",
    "results['AdaBoost'] = evaluate_model(AdaBoostClassifier(base_estimator=DecisionTreeClassifier()), 'AdaBoost')\n",
    "results['Gradient Boosting'] = evaluate_model(GradientBoostingClassifier(), 'Gradient Boosting')\n",
    "results['XGBoost'] = evaluate_model(XGBClassifier(booster='gbtree', learning_rate=0.1, max_depth=5, n_estimators=180), 'XGBoost')\n",
    "results['CatBoost'] = evaluate_model(CatBoostClassifier(iterations=100, verbose=0), 'CatBoost')\n",
    "results['Extra Trees'] = evaluate_model(ExtraTreesClassifier(), 'Extra Trees')\n",
    "results['LGBM'] = evaluate_model(LGBMClassifier(learning_rate=1), 'LGBM')"
   ]
  },
  {
   "cell_type": "code",
   "execution_count": 27,
   "metadata": {},
   "outputs": [
    {
     "name": "stdout",
     "output_type": "stream",
     "text": [
      "\n",
      "Model: Voting Classifier\n",
      "Accuracy: 0.9836423118865867\n",
      "Confusion Matrix:\n",
      " [[22452     9]\n",
      " [  576 12726]]\n",
      "Classification Report:\n",
      "               precision    recall  f1-score   support\n",
      "\n",
      "           0       0.97      1.00      0.99     22461\n",
      "           1       1.00      0.96      0.98     13302\n",
      "\n",
      "    accuracy                           0.98     35763\n",
      "   macro avg       0.99      0.98      0.98     35763\n",
      "weighted avg       0.98      0.98      0.98     35763\n",
      "\n"
     ]
    }
   ],
   "source": [
    "# Voting Classifier\n",
    "voting = VotingClassifier(estimators=[\n",
    "    ('gb', GradientBoostingClassifier()),\n",
    "    ('cat', CatBoostClassifier(iterations=100, verbose=0)),\n",
    "    ('xgb', XGBClassifier(booster='gbtree', learning_rate=0.1, max_depth=5, n_estimators=180))\n",
    "])\n",
    "results['Voting Classifier'] = evaluate_model(voting, 'Voting Classifier')"
   ]
  },
  {
   "cell_type": "code",
   "execution_count": 28,
   "metadata": {},
   "outputs": [
    {
     "data": {
      "text/plain": [
       "<keras.src.callbacks.History at 0x21a10fa8760>"
      ]
     },
     "execution_count": 28,
     "metadata": {},
     "output_type": "execute_result"
    }
   ],
   "source": [
    "# 6. 🧠 ANN Model\n",
    "ann = Sequential()\n",
    "ann.add(Dense(100, activation='relu', input_dim=X.shape[1]))\n",
    "ann.add(Dense(100, activation='relu'))\n",
    "ann.add(Dense(1, activation='sigmoid'))\n",
    "ann.compile(optimizer='adam', loss='binary_crossentropy', metrics=['accuracy'])\n",
    "ann.fit(X_train, y_train, epochs=50, batch_size=128, verbose=0)"
   ]
  },
  {
   "cell_type": "code",
   "execution_count": 29,
   "metadata": {},
   "outputs": [
    {
     "name": "stdout",
     "output_type": "stream",
     "text": [
      "1118/1118 [==============================] - 1s 1ms/step - loss: 0.4082 - accuracy: 0.8191\n",
      "\n",
      "ANN Model Accuracy: 0.8190867900848389\n"
     ]
    }
   ],
   "source": [
    "# Evaluate ANN\n",
    "loss, acc = ann.evaluate(X_test, y_test)\n",
    "print(\"\\nANN Model Accuracy:\", acc)\n",
    "results['ANN'] = acc"
   ]
  },
  {
   "cell_type": "code",
   "execution_count": 32,
   "metadata": {},
   "outputs": [
    {
     "data": {
      "image/png": "[encoded data removed]",
      "text/plain": [
       "<Figure size 1200x600 with 1 Axes>"
      ]
     },
     "metadata": {},
     "output_type": "display_data"
    }
   ],
   "source": [
    "import seaborn as sns\n",
    "import matplotlib.pyplot as plt\n",
    "\n",
    "# 📊 Model Comparison with Seaborn\n",
    "plt.figure(figsize=(12, 6))\n",
    "sns.barplot(data=results_df, x='Accuracy', y='Model', palette='viridis')\n",
    "plt.title('Model Comparison', fontsize=16)\n",
    "plt.xlabel('Accuracy', fontsize=14)\n",
    "plt.ylabel('Model', fontsize=14)\n",
    "plt.grid(axis='x')\n",
    "plt.show()\n"
   ]
  },
  {
   "cell_type": "code",
   "execution_count": 31,
   "metadata": {},
   "outputs": [
    {
     "name": "stdout",
     "output_type": "stream",
     "text": [
      "\n",
      "Highest accuracy achieved by: CatBoost with Accuracy: 0.9961133014568129\n"
     ]
    }
   ],
   "source": [
    "# 8. ✅ Conclusion\n",
    "print(\"\\nHighest accuracy achieved by:\", results_df.iloc[0]['Model'], \"with Accuracy:\", results_df.iloc[0]['Accuracy'])"
   ]
  },
  {
   "cell_type": "code",
   "execution_count": null,
   "metadata": {},
   "outputs": [],
   "source": []
  }
 ],
 "metadata": {
  "kernelspec": {
   "display_name": "Python (KaggelProject)",
   "language": "python",
   "name": "ecommerce_ds"
  },
  "language_info": {
   "codemirror_mode": {
    "name": "ipython",
    "version": 3
   },
   "file_extension": ".py",
   "mimetype": "text/x-python",
   "name": "python",
   "nbconvert_exporter": "python",
   "pygments_lexer": "ipython3",
   "version": "3.8.20"
  }
 },
 "nbformat": 4,
 "nbformat_minor": 4
}
